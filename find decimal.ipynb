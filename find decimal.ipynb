{
 "cells": [
  {
   "cell_type": "code",
   "execution_count": 1,
   "metadata": {},
   "outputs": [],
   "source": [
    "def solution(n):                         # n=5\n",
    "    s=[0]*(n+1)                            # 0이 n+1개인 list 생성\n",
    "    m=int(n**0.5)                          # n의 0.5제곱\n",
    "    for i in range(2,n+1):                 # 2부터 n까지 \n",
    "        if s[i]==0:                        # s[i]가 0이면\n",
    "            for j in range(i+i,n+1,i):     # i*2부터 n까지 i배수 텀이면\n",
    "                s[j]=1                     # s[j]를 1로 할당\n",
    "    answer=[i for i in range(2,n+1) if s[i]==0] # 2에서 n번까지 s[i]가 0 것\n",
    "    return len(answer),answer"
   ]
  },
  {
   "cell_type": "code",
   "execution_count": 2,
   "metadata": {},
   "outputs": [
    {
     "data": {
      "text/plain": [
       "(4, [2, 3, 5, 7])"
      ]
     },
     "execution_count": 2,
     "metadata": {},
     "output_type": "execute_result"
    }
   ],
   "source": [
    "solution(10)"
   ]
  }
 ],
 "metadata": {
  "kernelspec": {
   "display_name": "Python 3",
   "language": "python",
   "name": "python3"
  },
  "language_info": {
   "codemirror_mode": {
    "name": "ipython",
    "version": 3
   },
   "file_extension": ".py",
   "mimetype": "text/x-python",
   "name": "python",
   "nbconvert_exporter": "python",
   "pygments_lexer": "ipython3",
   "version": "3.7.3"
  }
 },
 "nbformat": 4,
 "nbformat_minor": 2
}
