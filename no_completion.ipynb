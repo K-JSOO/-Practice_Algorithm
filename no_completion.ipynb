{
 "cells": [
  {
   "cell_type": "code",
   "execution_count": 1,
   "metadata": {},
   "outputs": [],
   "source": [
    "def find_lost(s1,s2):\n",
    "    s1.sort()\n",
    "    s2.sort()\n",
    "\n",
    "    for i in range(len(s2)):\n",
    "        if s1[i]!=s2[i]:\n",
    "            return s1[i] # s1[i]는 단어 하나가 리턴이 된다\n",
    "    return s1[-1] # 따라서 s1 리스트 자체가 하나의 단어가 되어 리턴 된다"
   ]
  },
  {
   "cell_type": "code",
   "execution_count": 2,
   "metadata": {},
   "outputs": [
    {
     "name": "stdout",
     "output_type": "stream",
     "text": [
      "ana\n"
     ]
    }
   ],
   "source": [
    "s1=['mislav', 'stanko', 'mislav', 'ana']\n",
    "s2=['stanko', 'mislav']\n",
    "\n",
    "print(find_lost(s1,s2))"
   ]
  },
  {
   "cell_type": "code",
   "execution_count": 3,
   "metadata": {},
   "outputs": [],
   "source": [
    "import collections\n",
    "\n",
    "def new_lost(s1,s2):\n",
    "    an=collections.Counter(s1)-collections.Counter(s2)\n",
    "    return ','.join([str(i) for i in list(an.keys())])"
   ]
  },
  {
   "cell_type": "code",
   "execution_count": 4,
   "metadata": {},
   "outputs": [
    {
     "name": "stdout",
     "output_type": "stream",
     "text": [
      "mislav,ana\n"
     ]
    }
   ],
   "source": [
    "s1=['mislav', 'stanko', 'mislav', 'ana']\n",
    "s2=['stanko', 'mislav']\n",
    "\n",
    "print(new_lost(s1,s2))"
   ]
  }
 ],
 "metadata": {
  "kernelspec": {
   "display_name": "Python 3",
   "language": "python",
   "name": "python3"
  },
  "language_info": {
   "codemirror_mode": {
    "name": "ipython",
    "version": 3
   },
   "file_extension": ".py",
   "mimetype": "text/x-python",
   "name": "python",
   "nbconvert_exporter": "python",
   "pygments_lexer": "ipython3",
   "version": "3.7.3"
  }
 },
 "nbformat": 4,
 "nbformat_minor": 2
}
