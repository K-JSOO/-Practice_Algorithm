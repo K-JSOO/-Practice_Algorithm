{
 "cells": [
  {
   "cell_type": "code",
   "execution_count": 1,
   "metadata": {},
   "outputs": [],
   "source": [
    "import collections\n",
    "\n",
    "def rectangle(v):\n",
    "    res=[]\n",
    "\n",
    "    for i in zip(*v):\n",
    "        a=collections.Counter(i)\n",
    "        for j in a:\n",
    "            if a[j]==1:\n",
    "                res.append(j)\n",
    "    return res"
   ]
  },
  {
   "cell_type": "code",
   "execution_count": 2,
   "metadata": {},
   "outputs": [
    {
     "name": "stdout",
     "output_type": "stream",
     "text": [
      "[1, 10]\n"
     ]
    }
   ],
   "source": [
    "v=[[1, 4], [3, 4], [3, 10]]\n",
    "print(rectangle(v))"
   ]
  },
  {
   "cell_type": "code",
   "execution_count": 3,
   "metadata": {},
   "outputs": [
    {
     "name": "stdout",
     "output_type": "stream",
     "text": [
      "(1, 3, 3)\n",
      "(4, 4, 10)\n"
     ]
    }
   ],
   "source": [
    "# zip(*변수명)\n",
    "\n",
    "v=[[1, 4], [3, 4], [3, 10]]\n",
    "\n",
    "for i in zip(*v): # 2차원 배열에서같은 위치의 원소만 모음\n",
    "    print(i)"
   ]
  },
  {
   "cell_type": "code",
   "execution_count": 4,
   "metadata": {
    "scrolled": true
   },
   "outputs": [
    {
     "name": "stdout",
     "output_type": "stream",
     "text": [
      "Counter({3: 2, 1: 1})\n",
      "a의 keys :  1\n",
      "a의 valuse :  1\n",
      "a의 keys :  3\n",
      "a의 valuse :  2\n",
      "Counter({4: 2, 10: 1})\n",
      "a의 keys :  4\n",
      "a의 valuse :  2\n",
      "a의 keys :  10\n",
      "a의 valuse :  1\n"
     ]
    }
   ],
   "source": [
    "# counter 함수 과정\n",
    "\n",
    "v=[[1, 4], [3, 4], [3, 10]]\n",
    "res=[]\n",
    "\n",
    "for i in zip(*v):\n",
    "    a=collections.Counter(i) # 중복 개수 세는 함수\n",
    "    print(a)\n",
    "    for j in a:\n",
    "        print('a의 keys : ',j) # Counter의 keys\n",
    "        print('a의 valuse : ',a[j]) # Counter의 values"
   ]
  },
  {
   "cell_type": "code",
   "execution_count": 5,
   "metadata": {},
   "outputs": [
    {
     "name": "stdout",
     "output_type": "stream",
     "text": [
      "[1, 10]\n"
     ]
    }
   ],
   "source": [
    "# counter 함수로 답을 구하는 과정\n",
    "'''\n",
    "직사각형의 좌표는 x축, y축이 2개씩 중복된다 \n",
    "따라서 중복 개수를 세는 counter 함수의 개수를 나타내는 values가 \n",
    "1개인 key가 구해야하는 좌표의 원소이다\n",
    "'''\n",
    "\n",
    "v=[[1, 4], [3, 4], [3, 10]]\n",
    "res=[]\n",
    "\n",
    "for i in zip(*v):\n",
    "    a=collections.Counter(i)\n",
    "    for j in a:\n",
    "        if a[j]==1: # Counter의 vlaues가 1이라면\n",
    "            res.append(j) # res에 Counter의 keys를 넣어라 \n",
    "print(res)"
   ]
  },
  {
   "cell_type": "code",
   "execution_count": 6,
   "metadata": {},
   "outputs": [
    {
     "name": "stdout",
     "output_type": "stream",
     "text": [
      "extend: [1, 10]\n",
      "append: [[1], [10]]\n"
     ]
    }
   ],
   "source": [
    "# extend와 append의 차이\n",
    "\n",
    "res=[]\n",
    "res2=[]\n",
    "\n",
    "for i in zip(*v):\n",
    "    a=collections.Counter(i)\n",
    "    res.extend([j for j in a if a[j]==1])\n",
    "    res2.append([j for j in a if a[j]==1])\n",
    "\n",
    "print('extend:',res)\n",
    "print('append:',res2)"
   ]
  }
 ],
 "metadata": {
  "kernelspec": {
   "display_name": "Python 3",
   "language": "python",
   "name": "python3"
  },
  "language_info": {
   "codemirror_mode": {
    "name": "ipython",
    "version": 3
   },
   "file_extension": ".py",
   "mimetype": "text/x-python",
   "name": "python",
   "nbconvert_exporter": "python",
   "pygments_lexer": "ipython3",
   "version": "3.7.3"
  }
 },
 "nbformat": 4,
 "nbformat_minor": 2
}
