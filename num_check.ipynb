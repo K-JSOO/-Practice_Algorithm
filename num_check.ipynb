{
 "cells": [
  {
   "cell_type": "code",
   "execution_count": 1,
   "metadata": {},
   "outputs": [],
   "source": [
    "def num_check(arr,num,re_arr,re_num):\n",
    "    count=0\n",
    "    for i in range(len(re_arr)):\n",
    "        if re_arr[i] in arr: # re_arr[i]가 arr에 있다면 \n",
    "            idx=arr.index(re_arr[i]) # re_arr[i]에 해당하는 arr index를 idx에 할당\n",
    "            if num[idx]!=re_num[i]: # num[idx]가 re_num[i]와 같다면\n",
    "                count+=1\n",
    "\n",
    "    return count"
   ]
  },
  {
   "cell_type": "code",
   "execution_count": 2,
   "metadata": {},
   "outputs": [
    {
     "data": {
      "text/plain": [
       "2"
      ]
     },
     "execution_count": 2,
     "metadata": {},
     "output_type": "execute_result"
    }
   ],
   "source": [
    "arr=['a','b','c','d','e','f']\n",
    "num=[1,2,3,4,5,6]\n",
    "re_arr=['b','d','e','f']\n",
    "re_num=[1,4,5,3]\n",
    "\n",
    "num_check(arr,num,re_arr,re_num)"
   ]
  },
  {
   "cell_type": "code",
   "execution_count": null,
   "metadata": {},
   "outputs": [],
   "source": []
  }
 ],
 "metadata": {
  "kernelspec": {
   "display_name": "Python 3",
   "language": "python",
   "name": "python3"
  },
  "language_info": {
   "codemirror_mode": {
    "name": "ipython",
    "version": 3
   },
   "file_extension": ".py",
   "mimetype": "text/x-python",
   "name": "python",
   "nbconvert_exporter": "python",
   "pygments_lexer": "ipython3",
   "version": "3.7.3"
  }
 },
 "nbformat": 4,
 "nbformat_minor": 2
}
