{
 "cells": [
  {
   "cell_type": "code",
   "execution_count": 1,
   "metadata": {},
   "outputs": [],
   "source": [
    "def slide_str(s,n):\n",
    "    res=[]\n",
    "    for i in s:\n",
    "        a=ord(i)\n",
    "        if 65 <= a <= 90: # 대문자 알파벳의 아스키 숫자\n",
    "            if a+n > 90 or a+n > 122:\n",
    "                res.append(chr(a-26+n)) # 26 : 알파벳 개수\n",
    "            else:\n",
    "                res.append(chr(a+n))\n",
    "        elif 97 <= a <= 122: # 소문자 알파벳의 아스키 숫자\n",
    "            if a+n > 122:\n",
    "                res.append(chr(a-26+n))\n",
    "            else:\n",
    "                res.append(chr(a+n))\n",
    "        else:\n",
    "            res.append(' ')\n",
    "\n",
    "    return ''.join(res)"
   ]
  },
  {
   "cell_type": "code",
   "execution_count": 2,
   "metadata": {},
   "outputs": [
    {
     "data": {
      "text/plain": [
       "'BC'"
      ]
     },
     "execution_count": 2,
     "metadata": {},
     "output_type": "execute_result"
    }
   ],
   "source": [
    "s1=\"AB\"\n",
    "n1=1\n",
    "slide_str(s1,n1)"
   ]
  },
  {
   "cell_type": "code",
   "execution_count": 3,
   "metadata": {},
   "outputs": [
    {
     "data": {
      "text/plain": [
       "'a'"
      ]
     },
     "execution_count": 3,
     "metadata": {},
     "output_type": "execute_result"
    }
   ],
   "source": [
    "s2=\"z\"\n",
    "n2=1\n",
    "slide_str(s2,n2)"
   ]
  },
  {
   "cell_type": "code",
   "execution_count": 4,
   "metadata": {},
   "outputs": [
    {
     "data": {
      "text/plain": [
       "'e F d'"
      ]
     },
     "execution_count": 4,
     "metadata": {},
     "output_type": "execute_result"
    }
   ],
   "source": [
    "s3=\"a B z\"\n",
    "n3=4\n",
    "slide_str(s3,n3)"
   ]
  }
 ],
 "metadata": {
  "kernelspec": {
   "display_name": "Python 3",
   "language": "python",
   "name": "python3"
  },
  "language_info": {
   "codemirror_mode": {
    "name": "ipython",
    "version": 3
   },
   "file_extension": ".py",
   "mimetype": "text/x-python",
   "name": "python",
   "nbconvert_exporter": "python",
   "pygments_lexer": "ipython3",
   "version": "3.7.3"
  }
 },
 "nbformat": 4,
 "nbformat_minor": 2
}
