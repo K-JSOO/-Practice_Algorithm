{
 "cells": [
  {
   "cell_type": "code",
   "execution_count": 1,
   "metadata": {},
   "outputs": [],
   "source": [
    "def solution(number,hand):\n",
    "    h=hand\n",
    "    pos={1:(0,0),2:(0,1),3:(0,2),\n",
    "         4:(1,0),5:(1,1),6:(1,2),\n",
    "         7:(2,0),8:(2,1),9:(2,2),\n",
    "         '*':(3,0),0:(3,1),'#':(3,2)}\n",
    "    answer=''\n",
    "    R,L='#','*'\n",
    "    for i in number:\n",
    "        if i in (1,4,7):\n",
    "            answer+='L'\n",
    "            L=i\n",
    "        elif i in (3,6,9):\n",
    "            answer+='R'\n",
    "            R=i\n",
    "        else:\n",
    "            dis_r=abs(pos[R][0]-pos[i][0])+abs(pos[R][1]-pos[i][1])\n",
    "            dis_l=abs(pos[L][0]-pos[i][0])+abs(pos[L][1]-pos[i][1])\n",
    "            \n",
    "            if dis_r<dis_l:\n",
    "                answer+='R'\n",
    "                R=i\n",
    "            elif dis_r>dis_l:\n",
    "                answer+='L'\n",
    "                L=i\n",
    "            else:\n",
    "                if h=='right': \n",
    "                    answer+='R'\n",
    "                    R=i\n",
    "                else:\n",
    "                    answer+='L'\n",
    "                    L=i\n",
    "    return answer"
   ]
  },
  {
   "cell_type": "code",
   "execution_count": 2,
   "metadata": {},
   "outputs": [
    {
     "data": {
      "text/plain": [
       "'LRLLLRLLRRL'"
      ]
     },
     "execution_count": 2,
     "metadata": {},
     "output_type": "execute_result"
    }
   ],
   "source": [
    "number1=[1, 3, 4, 5, 8, 2, 1, 4, 5, 9, 5]\n",
    "solution(number1,'right')"
   ]
  },
  {
   "cell_type": "code",
   "execution_count": 3,
   "metadata": {},
   "outputs": [
    {
     "data": {
      "text/plain": [
       "'LRLLRRLLLRR'"
      ]
     },
     "execution_count": 3,
     "metadata": {},
     "output_type": "execute_result"
    }
   ],
   "source": [
    "number2=[7, 0, 8, 2, 8, 3, 1, 5, 7, 6, 2]\n",
    "solution(number2,'left')"
   ]
  },
  {
   "cell_type": "code",
   "execution_count": 4,
   "metadata": {},
   "outputs": [
    {
     "data": {
      "text/plain": [
       "'LLRLLRLLRL'"
      ]
     },
     "execution_count": 4,
     "metadata": {},
     "output_type": "execute_result"
    }
   ],
   "source": [
    "number3=[1, 2, 3, 4, 5, 6, 7, 8, 9, 0]\n",
    "solution(number3,'right')"
   ]
  }
 ],
 "metadata": {
  "kernelspec": {
   "display_name": "Python 3",
   "language": "python",
   "name": "python3"
  },
  "language_info": {
   "codemirror_mode": {
    "name": "ipython",
    "version": 3
   },
   "file_extension": ".py",
   "mimetype": "text/x-python",
   "name": "python",
   "nbconvert_exporter": "python",
   "pygments_lexer": "ipython3",
   "version": "3.7.3"
  }
 },
 "nbformat": 4,
 "nbformat_minor": 2
}
