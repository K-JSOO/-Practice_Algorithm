{
 "cells": [
  {
   "cell_type": "code",
   "execution_count": 1,
   "metadata": {},
   "outputs": [],
   "source": [
    "def wrong_text(s1,s2):\n",
    "    if len(s1) > len(s2):\n",
    "        return False\n",
    "    else:\n",
    "        res_s1=0\n",
    "        res_s2=0\n",
    "        '''\n",
    "        어떤 단어에서 문자를 더 누르는 오타는 낼 수 있지만 아예 다른 오타는 못냄\n",
    "        예를 들어 'abc'라는 단어에서 'abccc','abbbc'는 되지만 'abdc','abcd'는 안됨\n",
    "        '''\n",
    "        for i in range(len(s1)-1):\n",
    "            if s1[i]!=s1[i+1]:\n",
    "                res_s1+=1\n",
    "\n",
    "        for j in range(len(s2)-1):\n",
    "            if s2[j]!=s2[j+1]:\n",
    "                res_s2+=1\n",
    "\n",
    "        if res_s1==res_s2:\n",
    "            return True\n",
    "        else:\n",
    "            return False"
   ]
  },
  {
   "cell_type": "code",
   "execution_count": 2,
   "metadata": {},
   "outputs": [
    {
     "name": "stdout",
     "output_type": "stream",
     "text": [
      "True\n"
     ]
    }
   ],
   "source": [
    "s1='umbrella'\n",
    "s2='umbrellaaaaa'\n",
    "\n",
    "print(wrong_text(s1,s2))"
   ]
  },
  {
   "cell_type": "code",
   "execution_count": 3,
   "metadata": {},
   "outputs": [
    {
     "name": "stdout",
     "output_type": "stream",
     "text": [
      "False\n"
     ]
    }
   ],
   "source": [
    "s1='umbrella'\n",
    "s3='umbrelvvla'\n",
    "\n",
    "print(wrong_text(s1,s2))"
   ]
  }
 ],
 "metadata": {
  "kernelspec": {
   "display_name": "Python 3",
   "language": "python",
   "name": "python3"
  },
  "language_info": {
   "codemirror_mode": {
    "name": "ipython",
    "version": 3
   },
   "file_extension": ".py",
   "mimetype": "text/x-python",
   "name": "python",
   "nbconvert_exporter": "python",
   "pygments_lexer": "ipython3",
   "version": "3.7.3"
  }
 },
 "nbformat": 4,
 "nbformat_minor": 2
}
