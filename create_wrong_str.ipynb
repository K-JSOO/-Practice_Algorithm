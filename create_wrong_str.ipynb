{
 "cells": [
  {
   "cell_type": "code",
   "execution_count": 1,
   "metadata": {},
   "outputs": [],
   "source": [
    "def create_wrong_str(s):\n",
    "    s2=s.split(' ')\n",
    "    '''\n",
    "    split()와 split(' ') 차이 : split()는 여러 개의 공백이 하나로 합쳐진다\n",
    "    따라서 여러개의 공백으로 분리를 하고 싶다면 split(' ')를 사용해야 한다\n",
    "    '''\n",
    "    answer=[]\n",
    "    for i in s2:\n",
    "        res=''\n",
    "        for j in range(len(i)):\n",
    "            res+=''.join(i[j].lower() if j%2==1 else i[j].upper())\n",
    "        answer.append(res)\n",
    "    return ' '.join(answer)"
   ]
  },
  {
   "cell_type": "code",
   "execution_count": 2,
   "metadata": {},
   "outputs": [
    {
     "data": {
      "text/plain": [
       "' TrY HeLlO WoRlD'"
      ]
     },
     "execution_count": 2,
     "metadata": {},
     "output_type": "execute_result"
    }
   ],
   "source": [
    "s=' try hello world'\n",
    "create_wrong_str(s)"
   ]
  },
  {
   "cell_type": "code",
   "execution_count": 3,
   "metadata": {},
   "outputs": [
    {
     "data": {
      "text/plain": [
       "'TrY HeLlO WoRlD'"
      ]
     },
     "execution_count": 3,
     "metadata": {},
     "output_type": "execute_result"
    }
   ],
   "source": [
    "s='try hello world'\n",
    "create_wrong_str(s)"
   ]
  }
 ],
 "metadata": {
  "kernelspec": {
   "display_name": "Python 3",
   "language": "python",
   "name": "python3"
  },
  "language_info": {
   "codemirror_mode": {
    "name": "ipython",
    "version": 3
   },
   "file_extension": ".py",
   "mimetype": "text/x-python",
   "name": "python",
   "nbconvert_exporter": "python",
   "pygments_lexer": "ipython3",
   "version": "3.7.3"
  }
 },
 "nbformat": 4,
 "nbformat_minor": 2
}
